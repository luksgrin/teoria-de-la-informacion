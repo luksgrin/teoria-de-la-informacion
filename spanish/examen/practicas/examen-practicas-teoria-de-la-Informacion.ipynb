{
 "cells": [
  {
   "cell_type": "markdown",
   "metadata": {},
   "source": [
    "# Examen de Prácticas Teoría de la Información\n",
    "\n",
    "## Dependendicas\n",
    "\n",
    "Para ejecutar este notebook es necesario tener instaladoS los paquetes `requests`, `unidecode`, `numpy` y `pandas`. Si no los tienes instalados, puedes hacerlo ejecutando el siguiente comando en alguna celda:\n",
    "\n",
    "```bash\n",
    "!pip install requests unidecode numpy pandas\n",
    "```"
   ]
  },
  {
   "cell_type": "code",
   "execution_count": 1,
   "metadata": {},
   "outputs": [],
   "source": [
    "import requests\n",
    "from unidecode import unidecode\n",
    "import pandas as pd\n",
    "import numpy as np"
   ]
  },
  {
   "cell_type": "code",
   "execution_count": 2,
   "metadata": {},
   "outputs": [],
   "source": [
    "# Obtenemos un texto de la página de Proyecto Gutenberg\n",
    "texto = \"\".join(\n",
    "    char for char\n",
    "    in unidecode(requests.get(\"https://www.gutenberg.org/cache/epub/53552/pg53552.txt\").text).upper()\n",
    "    if char.isalpha()\n",
    ")"
   ]
  },
  {
   "cell_type": "markdown",
   "metadata": {},
   "source": [
    "#### Ejercicio 1 _(1 p)_: Obtén un diccionario con las frecuencias de los caracteres del texto"
   ]
  },
  {
   "cell_type": "code",
   "execution_count": 3,
   "metadata": {},
   "outputs": [],
   "source": [
    "# Tu respuesta debe de ser un diccionario llamado `frecuencias` con las frecuencias de cada letra\n"
   ]
  },
  {
   "cell_type": "markdown",
   "metadata": {},
   "source": [
    "#### Ejercicio 2 _(1.5 p)_: Crea un `DataFrame` cuyos índices sean los caracteres y las columnas sean las frecuencias de los caracteres"
   ]
  },
  {
   "cell_type": "code",
   "execution_count": 4,
   "metadata": {},
   "outputs": [],
   "source": [
    "# Tu respuesta debe de ser un DataFrame llamado `df`\n"
   ]
  },
  {
   "cell_type": "markdown",
   "metadata": {},
   "source": [
    "#### Ejercicio 3 _(2 p)_: Considerando que el alfabeto código que queremos usar es `{💀, 👻, 👽, 🌚, 🧛}`, propón un código para cada letra empleando el método de Shannon."
   ]
  },
  {
   "cell_type": "code",
   "execution_count": 5,
   "metadata": {},
   "outputs": [],
   "source": [
    "B = [\"💀\", \"👻\", \"👽\", \"🌚\", \"🧛\"] # Alfabeto código\n",
    "# Tu respuesta debe de ser el DataFrame df que contenga la columnas \"-log_n(p)\", \"l\" y \"codigo\". Emplea una base `n` adecuada\n"
   ]
  },
  {
   "cell_type": "markdown",
   "metadata": {},
   "source": [
    "#### Ejercicio 4 _(1 p)_: Calcula el rendimiento $(\\eta)$ del código"
   ]
  },
  {
   "cell_type": "code",
   "execution_count": 6,
   "metadata": {},
   "outputs": [],
   "source": [
    "# Tu respuesta debe de estar guardada una variable llamada `eta`\n"
   ]
  },
  {
   "cell_type": "markdown",
   "metadata": {},
   "source": [
    "#### Ejercicio 5 _(0.5 p)_: Codifica el texto usando el código propuesto y calcula el ratio entre la longitud del texto original y el texto codificado"
   ]
  },
  {
   "cell_type": "code",
   "execution_count": 7,
   "metadata": {},
   "outputs": [],
   "source": [
    "# Para que esta función corra correctamente debes de tener definida la variable `df` y la columna `codigo`. Guarda tu respuesta en una variable llamada `ratio`\n",
    "def codifica(texto):\n",
    "    return \"\".join(df.loc[char, \"codigo\"] for char in texto)\n",
    "\n",
    "# ..."
   ]
  }
 ],
 "metadata": {
  "kernelspec": {
   "display_name": "Python 3",
   "language": "python",
   "name": "python3"
  },
  "language_info": {
   "codemirror_mode": {
    "name": "ipython",
    "version": 3
   },
   "file_extension": ".py",
   "mimetype": "text/x-python",
   "name": "python",
   "nbconvert_exporter": "python",
   "pygments_lexer": "ipython3",
   "version": "3.10.12"
  }
 },
 "nbformat": 4,
 "nbformat_minor": 2
}
