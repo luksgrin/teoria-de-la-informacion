{
 "cells": [
  {
   "cell_type": "markdown",
   "metadata": {},
   "source": [
    "# Examen de Prácticas Teoría de la Información\n",
    "\n",
    "## Dependendicas\n",
    "\n",
    "Para ejecutar este notebook es necesario tener instaladoS los paquetes `requests`, `unidecode`, `numpy` y `pandas`. Si no los tienes instalados, puedes hacerlo ejecutando el siguiente comando en alguna celda:\n",
    "\n",
    "```bash\n",
    "!pip install requests unidecode numpy pandas\n",
    "```"
   ]
  },
  {
   "cell_type": "code",
   "execution_count": 1,
   "metadata": {},
   "outputs": [],
   "source": [
    "import requests\n",
    "from unidecode import unidecode\n",
    "import pandas as pd\n",
    "import numpy as np"
   ]
  },
  {
   "cell_type": "code",
   "execution_count": 2,
   "metadata": {},
   "outputs": [],
   "source": [
    "# Obtenemos un texto de la página de Proyecto Gutenberg\n",
    "texto = \"\".join(\n",
    "    char for char\n",
    "    in unidecode(requests.get(\"https://www.gutenberg.org/cache/epub/53552/pg53552.txt\").text).upper()\n",
    "    if char.isalpha()\n",
    ")"
   ]
  },
  {
   "cell_type": "markdown",
   "metadata": {},
   "source": [
    "#### Ejercicio 1 _(1 p)_: Obtén un diccionario con las frecuencias de los caracteres del texto"
   ]
  },
  {
   "cell_type": "code",
   "execution_count": 3,
   "metadata": {},
   "outputs": [],
   "source": [
    "# Tu respuesta debe de ser un diccionario llamado `frecuencias` con las frecuencias de cada letra\n",
    "frecuencias = {char: texto.count(char)/len(texto) for char in set(texto)}"
   ]
  },
  {
   "cell_type": "markdown",
   "metadata": {},
   "source": [
    "#### Ejercicio 2 _(1.5 p)_: Crea un `DataFrame` cuyos índices sean los caracteres y las columnas sean las frecuencias de los caracteres"
   ]
  },
  {
   "cell_type": "code",
   "execution_count": 4,
   "metadata": {},
   "outputs": [
    {
     "data": {
      "text/html": [
       "<div>\n",
       "<style scoped>\n",
       "    .dataframe tbody tr th:only-of-type {\n",
       "        vertical-align: middle;\n",
       "    }\n",
       "\n",
       "    .dataframe tbody tr th {\n",
       "        vertical-align: top;\n",
       "    }\n",
       "\n",
       "    .dataframe thead th {\n",
       "        text-align: right;\n",
       "    }\n",
       "</style>\n",
       "<table border=\"1\" class=\"dataframe\">\n",
       "  <thead>\n",
       "    <tr style=\"text-align: right;\">\n",
       "      <th></th>\n",
       "      <th>p</th>\n",
       "    </tr>\n",
       "  </thead>\n",
       "  <tbody>\n",
       "    <tr>\n",
       "      <th>A</th>\n",
       "      <td>0.126032</td>\n",
       "    </tr>\n",
       "    <tr>\n",
       "      <th>B</th>\n",
       "      <td>0.015521</td>\n",
       "    </tr>\n",
       "    <tr>\n",
       "      <th>C</th>\n",
       "      <td>0.038002</td>\n",
       "    </tr>\n",
       "    <tr>\n",
       "      <th>D</th>\n",
       "      <td>0.049692</td>\n",
       "    </tr>\n",
       "    <tr>\n",
       "      <th>E</th>\n",
       "      <td>0.128991</td>\n",
       "    </tr>\n",
       "    <tr>\n",
       "      <th>F</th>\n",
       "      <td>0.006715</td>\n",
       "    </tr>\n",
       "    <tr>\n",
       "      <th>G</th>\n",
       "      <td>0.011484</td>\n",
       "    </tr>\n",
       "    <tr>\n",
       "      <th>H</th>\n",
       "      <td>0.010453</td>\n",
       "    </tr>\n",
       "    <tr>\n",
       "      <th>I</th>\n",
       "      <td>0.056698</td>\n",
       "    </tr>\n",
       "    <tr>\n",
       "      <th>J</th>\n",
       "      <td>0.005462</td>\n",
       "    </tr>\n",
       "    <tr>\n",
       "      <th>K</th>\n",
       "      <td>0.000320</td>\n",
       "    </tr>\n",
       "    <tr>\n",
       "      <th>L</th>\n",
       "      <td>0.059085</td>\n",
       "    </tr>\n",
       "    <tr>\n",
       "      <th>M</th>\n",
       "      <td>0.028431</td>\n",
       "    </tr>\n",
       "    <tr>\n",
       "      <th>N</th>\n",
       "      <td>0.069064</td>\n",
       "    </tr>\n",
       "    <tr>\n",
       "      <th>O</th>\n",
       "      <td>0.094405</td>\n",
       "    </tr>\n",
       "    <tr>\n",
       "      <th>P</th>\n",
       "      <td>0.023089</td>\n",
       "    </tr>\n",
       "    <tr>\n",
       "      <th>Q</th>\n",
       "      <td>0.011061</td>\n",
       "    </tr>\n",
       "    <tr>\n",
       "      <th>R</th>\n",
       "      <td>0.066127</td>\n",
       "    </tr>\n",
       "    <tr>\n",
       "      <th>S</th>\n",
       "      <td>0.081621</td>\n",
       "    </tr>\n",
       "    <tr>\n",
       "      <th>T</th>\n",
       "      <td>0.040599</td>\n",
       "    </tr>\n",
       "    <tr>\n",
       "      <th>U</th>\n",
       "      <td>0.047019</td>\n",
       "    </tr>\n",
       "    <tr>\n",
       "      <th>V</th>\n",
       "      <td>0.010768</td>\n",
       "    </tr>\n",
       "    <tr>\n",
       "      <th>W</th>\n",
       "      <td>0.000673</td>\n",
       "    </tr>\n",
       "    <tr>\n",
       "      <th>X</th>\n",
       "      <td>0.001715</td>\n",
       "    </tr>\n",
       "    <tr>\n",
       "      <th>Y</th>\n",
       "      <td>0.012249</td>\n",
       "    </tr>\n",
       "    <tr>\n",
       "      <th>Z</th>\n",
       "      <td>0.004728</td>\n",
       "    </tr>\n",
       "  </tbody>\n",
       "</table>\n",
       "</div>"
      ],
      "text/plain": [
       "          p\n",
       "A  0.126032\n",
       "B  0.015521\n",
       "C  0.038002\n",
       "D  0.049692\n",
       "E  0.128991\n",
       "F  0.006715\n",
       "G  0.011484\n",
       "H  0.010453\n",
       "I  0.056698\n",
       "J  0.005462\n",
       "K  0.000320\n",
       "L  0.059085\n",
       "M  0.028431\n",
       "N  0.069064\n",
       "O  0.094405\n",
       "P  0.023089\n",
       "Q  0.011061\n",
       "R  0.066127\n",
       "S  0.081621\n",
       "T  0.040599\n",
       "U  0.047019\n",
       "V  0.010768\n",
       "W  0.000673\n",
       "X  0.001715\n",
       "Y  0.012249\n",
       "Z  0.004728"
      ]
     },
     "execution_count": 4,
     "metadata": {},
     "output_type": "execute_result"
    }
   ],
   "source": [
    "# Tu respuesta debe de ser un DataFrame llamado `df`\n",
    "df = pd.DataFrame(\n",
    "    frecuencias.values(),\n",
    "    index=frecuencias.keys(),\n",
    "    columns=[\"p\"]\n",
    ").sort_index()\n",
    "df"
   ]
  },
  {
   "cell_type": "markdown",
   "metadata": {},
   "source": [
    "#### Ejercicio 3 _(2 p)_: Considerando que el alfabeto código que queremos usar es `{💀, 👻, 👽, 🌚, 🧛}`, propón un código para cada letra empleando el método de Shannon."
   ]
  },
  {
   "cell_type": "code",
   "execution_count": 5,
   "metadata": {},
   "outputs": [],
   "source": [
    "B = [\"💀\", \"👻\", \"👽\", \"🌚\", \"🧛\"] # Alfabeto código\n",
    "# Tu respuesta debe de ser el DataFrame df que contenga la columnas \"-log_n(p)\", \"l\" y \"codigo\". Emplea una base `n` adecuada\n",
    "\n",
    "df[\"-log_n(p)\"] = -(np.log(df[\"p\"])/np.log(len(B)))\n",
    "df[\"l\"] = np.ceil(df[\"-log_n(p)\"])\n",
    "df\n",
    "df[\"codigo\"] = [\n",
    "    \"💀💀\",\n",
    "    \"👽👻💀\",\n",
    "    \"👽👻👻\",\n",
    "    \"💀👻\",\n",
    "    \"💀👽\",\n",
    "    \"👽🌚💀💀\",\n",
    "    \"👽👻👽\",\n",
    "    \"👽👻🌚\",\n",
    "    \"💀🌚\",\n",
    "    \"👽🌚💀👻\",\n",
    "    \"🧛🧛🧛🧛🧛🧛\",\n",
    "    \"💀🧛\",\n",
    "    \"👽👻🧛\",\n",
    "    \"👻💀\",\n",
    "    \"👻👻\",\n",
    "    \"👽👽💀\",\n",
    "    \"👽👽👻\",\n",
    "    \"👻👽\",\n",
    "    \"👻🌚\",\n",
    "    \"👻🧛\",\n",
    "    \"👽💀\",\n",
    "    \"👽👽👽\",\n",
    "    \"🌚🌚🌚🌚🌚\",\n",
    "    \"👽🌚💀👽\",\n",
    "    \"👽👽🌚\",\n",
    "    \"👽🌚💀🌚\"\n",
    "]"
   ]
  },
  {
   "cell_type": "markdown",
   "metadata": {},
   "source": [
    "#### Ejercicio 4 _(1 p)_: Calcula el rendimiento $(\\eta)$ del código"
   ]
  },
  {
   "cell_type": "code",
   "execution_count": 6,
   "metadata": {},
   "outputs": [
    {
     "data": {
      "text/plain": [
       "0.7913570912652299"
      ]
     },
     "execution_count": 6,
     "metadata": {},
     "output_type": "execute_result"
    }
   ],
   "source": [
    "# Tu respuesta debe de estar guardada en la variable `eta`\n",
    "eta = (df[\"p\"]*df[\"-log_n(p)\"]).sum()/(df[\"p\"]*df[\"l\"]).sum()\n",
    "eta"
   ]
  },
  {
   "cell_type": "markdown",
   "metadata": {},
   "source": [
    "#### Ejercicio 5 _(0.5 p)_: Codifica el texto usando el código propuesto y calcula el ratio entre la longitud del texto original y el texto codificado"
   ]
  },
  {
   "cell_type": "code",
   "execution_count": 7,
   "metadata": {},
   "outputs": [
    {
     "data": {
      "text/plain": [
       "0.4542167861903165"
      ]
     },
     "execution_count": 7,
     "metadata": {},
     "output_type": "execute_result"
    }
   ],
   "source": [
    "# Para que esta función corra correctamente debes de tener definida la variable `df` y la columna `codigo`. Guarda tu respuesta en una variable llamada `ratio`\n",
    "def codifica(texto):\n",
    "    return \"\".join(df.loc[char, \"codigo\"] for char in texto)\n",
    "\n",
    "texto_codificado = codifica(texto)\n",
    "ratio = len(texto)/len(texto_codificado)\n",
    "ratio"
   ]
  }
 ],
 "metadata": {
  "kernelspec": {
   "display_name": "Python 3",
   "language": "python",
   "name": "python3"
  },
  "language_info": {
   "codemirror_mode": {
    "name": "ipython",
    "version": 3
   },
   "file_extension": ".py",
   "mimetype": "text/x-python",
   "name": "python",
   "nbconvert_exporter": "python",
   "pygments_lexer": "ipython3",
   "version": "3.10.12"
  }
 },
 "nbformat": 4,
 "nbformat_minor": 2
}
